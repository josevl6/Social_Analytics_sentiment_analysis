{
 "cells": [
  {
   "cell_type": "markdown",
   "metadata": {},
   "source": [
    "## Analysis => News Channels\n",
    "\n",
    "#### 1) Based on the last 100 tweets for each of the 5 news channels analyzed, people have shown negative sentiments on average across all 5  news channels.\n",
    "\n",
    "#### 2) Out of the last 100 tweets of each of the 5 different news channels (BBC, CBS, FOX, CNN and NYtimes), CNN Breaking News had the highest negative score (ie., -.27).\n",
    "\n",
    "#### 3) BBC news and NY Times both have the lowest average negative scores; their scores are close to being neutral (.02 for each one)."
   ]
  },
  {
   "cell_type": "code",
   "execution_count": 13,
   "metadata": {},
   "outputs": [],
   "source": [
    "# Dependencies\n",
    "import pandas as pd\n",
    "import matplotlib.pyplot as plt\n",
    "import tweepy\n",
    "import numpy as np\n",
    "import time\n",
    "from datetime import datetime\n",
    "\n",
    "# Import and Initialize Sentiment Analyzer\n",
    "from vaderSentiment.vaderSentiment import SentimentIntensityAnalyzer\n",
    "analyzer = SentimentIntensityAnalyzer()\n",
    "\n",
    "# Twitter API Keys\n",
    "from config import(consumer_key,\n",
    "                  consumer_secret,\n",
    "                  access_token,\n",
    "                  access_token_secret)\n",
    "\n",
    "# Setup Tweepy API Authentication\n",
    "auth = tweepy.OAuthHandler(consumer_key, consumer_secret)\n",
    "auth.set_access_token(access_token, access_token_secret)\n",
    "api = tweepy.API(auth, parser=tweepy.parsers.JSONParser())"
   ]
  },
  {
   "cell_type": "code",
   "execution_count": 14,
   "metadata": {},
   "outputs": [],
   "source": [
    "# Target Search Term\n",
    "target_terms = (\"@BBCNews\", \"@CBSNews\", \"@cnnbrk\",\n",
    "                \"@FoxNews\", \"@nytimes\")\n",
    "\n",
    "# Counter\n",
    "counter = 0\n",
    "\n",
    "results_list = []\n",
    "\n",
    "# # Variable for max_id\n",
    "# oldest_tweet = None\n",
    "\n",
    "# Loop through all target users\n",
    "for target in target_terms:\n",
    "    \n",
    "#     # Counter\n",
    "#     counter = 0\n",
    "     \n",
    "    public_tweets = api.user_timeline(target, count = 100)\n",
    "    \n",
    "    # Loop through all tweets\n",
    "    for tweet in public_tweets:\n",
    "        # Run Vader_sentiment analysis on each tweet\n",
    "        results = analyzer.polarity_scores(tweet['text'])\n",
    "        compound = results['compound']\n",
    "        pos = results['pos']\n",
    "        neg = results['neg']\n",
    "        neu = results['neu']\n",
    "        tweets_ago = counter\n",
    "        text = tweet['text']\n",
    "        \n",
    "        # Add sentiment_values to empty list: \"results_list\"\n",
    "        \n",
    "        results_list.append({\"User\":target,\n",
    "                            \"Tweet Text\": text,\n",
    "                            \"Date\": tweet[\"created_at\"],\n",
    "                            \"Compound\": compound,\n",
    "                            \"Positive\": pos,\n",
    "                            \"Negative\": neg,\n",
    "                            \"Neutral\": neu,\n",
    "                            \"Tweets Ago\": counter})\n",
    "        \n",
    "        counter += 1"
   ]
  },
  {
   "cell_type": "code",
   "execution_count": 17,
   "metadata": {},
   "outputs": [
    {
     "data": {
      "text/html": [
       "<div>\n",
       "<style scoped>\n",
       "    .dataframe tbody tr th:only-of-type {\n",
       "        vertical-align: middle;\n",
       "    }\n",
       "\n",
       "    .dataframe tbody tr th {\n",
       "        vertical-align: top;\n",
       "    }\n",
       "\n",
       "    .dataframe thead th {\n",
       "        text-align: right;\n",
       "    }\n",
       "</style>\n",
       "<table border=\"1\" class=\"dataframe\">\n",
       "  <thead>\n",
       "    <tr style=\"text-align: right;\">\n",
       "      <th></th>\n",
       "      <th>User</th>\n",
       "      <th>Date</th>\n",
       "      <th>Tweet Text</th>\n",
       "      <th>Compound</th>\n",
       "      <th>Positive</th>\n",
       "      <th>Neutral</th>\n",
       "      <th>Negative</th>\n",
       "      <th>Tweets Ago</th>\n",
       "    </tr>\n",
       "  </thead>\n",
       "  <tbody>\n",
       "    <tr>\n",
       "      <th>0</th>\n",
       "      <td>@BBCNews</td>\n",
       "      <td>Thu Oct 18 01:18:59 +0000 2018</td>\n",
       "      <td>Why more young people are using Crimestoppers ...</td>\n",
       "      <td>0.0000</td>\n",
       "      <td>0.000</td>\n",
       "      <td>1.000</td>\n",
       "      <td>0.000</td>\n",
       "      <td>0</td>\n",
       "    </tr>\n",
       "    <tr>\n",
       "      <th>1</th>\n",
       "      <td>@BBCNews</td>\n",
       "      <td>Thu Oct 18 01:04:28 +0000 2018</td>\n",
       "      <td>Central African Republic: 'Why a grenade could...</td>\n",
       "      <td>0.2235</td>\n",
       "      <td>0.173</td>\n",
       "      <td>0.827</td>\n",
       "      <td>0.000</td>\n",
       "      <td>1</td>\n",
       "    </tr>\n",
       "    <tr>\n",
       "      <th>2</th>\n",
       "      <td>@BBCNews</td>\n",
       "      <td>Thu Oct 18 00:59:59 +0000 2018</td>\n",
       "      <td>Healthcare in US: The big election issue that'...</td>\n",
       "      <td>0.0000</td>\n",
       "      <td>0.000</td>\n",
       "      <td>1.000</td>\n",
       "      <td>0.000</td>\n",
       "      <td>2</td>\n",
       "    </tr>\n",
       "    <tr>\n",
       "      <th>3</th>\n",
       "      <td>@BBCNews</td>\n",
       "      <td>Thu Oct 18 00:48:41 +0000 2018</td>\n",
       "      <td>In pictures: Army Photographic Competition 201...</td>\n",
       "      <td>0.0000</td>\n",
       "      <td>0.000</td>\n",
       "      <td>1.000</td>\n",
       "      <td>0.000</td>\n",
       "      <td>3</td>\n",
       "    </tr>\n",
       "    <tr>\n",
       "      <th>4</th>\n",
       "      <td>@BBCNews</td>\n",
       "      <td>Thu Oct 18 00:14:29 +0000 2018</td>\n",
       "      <td>Firms defy pressure over Saudi conference http...</td>\n",
       "      <td>-0.2960</td>\n",
       "      <td>0.000</td>\n",
       "      <td>0.732</td>\n",
       "      <td>0.268</td>\n",
       "      <td>4</td>\n",
       "    </tr>\n",
       "  </tbody>\n",
       "</table>\n",
       "</div>"
      ],
      "text/plain": [
       "       User                            Date  \\\n",
       "0  @BBCNews  Thu Oct 18 01:18:59 +0000 2018   \n",
       "1  @BBCNews  Thu Oct 18 01:04:28 +0000 2018   \n",
       "2  @BBCNews  Thu Oct 18 00:59:59 +0000 2018   \n",
       "3  @BBCNews  Thu Oct 18 00:48:41 +0000 2018   \n",
       "4  @BBCNews  Thu Oct 18 00:14:29 +0000 2018   \n",
       "\n",
       "                                          Tweet Text  Compound  Positive  \\\n",
       "0  Why more young people are using Crimestoppers ...    0.0000     0.000   \n",
       "1  Central African Republic: 'Why a grenade could...    0.2235     0.173   \n",
       "2  Healthcare in US: The big election issue that'...    0.0000     0.000   \n",
       "3  In pictures: Army Photographic Competition 201...    0.0000     0.000   \n",
       "4  Firms defy pressure over Saudi conference http...   -0.2960     0.000   \n",
       "\n",
       "   Neutral  Negative  Tweets Ago  \n",
       "0    1.000     0.000           0  \n",
       "1    0.827     0.000           1  \n",
       "2    1.000     0.000           2  \n",
       "3    1.000     0.000           3  \n",
       "4    0.732     0.268           4  "
      ]
     },
     "execution_count": 17,
     "metadata": {},
     "output_type": "execute_result"
    }
   ],
   "source": [
    "# Convert sentiments to DataFrame\n",
    "sentiments_df = pd.DataFrame.from_dict(results_list)\n",
    "sentiments_df = sentiments_df[[\"User\",\"Date\",\"Tweet Text\",\"Compound\",\"Positive\",\"Neutral\",\"Negative\",\"Tweets Ago\"]]\n",
    "\n",
    "sentiments_df.head()"
   ]
  },
  {
   "cell_type": "code",
   "execution_count": 4,
   "metadata": {},
   "outputs": [
    {
     "data": {
      "text/plain": [
       "User          500\n",
       "Date          500\n",
       "Tweet Text    500\n",
       "Compound      500\n",
       "Positive      500\n",
       "Neutral       500\n",
       "Negative      500\n",
       "Tweets Ago    500\n",
       "dtype: int64"
      ]
     },
     "execution_count": 4,
     "metadata": {},
     "output_type": "execute_result"
    }
   ],
   "source": [
    "sentiments_df.count()"
   ]
  },
  {
   "cell_type": "code",
   "execution_count": 5,
   "metadata": {},
   "outputs": [],
   "source": [
    "#Export the DataFrame to as csv.\n",
    "sentiments_df.to_csv(\"Twitter_NewsSentiment_Analysis.csv\", index=False) "
   ]
  },
  {
   "cell_type": "code",
   "execution_count": 6,
   "metadata": {},
   "outputs": [
    {
     "data": {
      "image/png": "[encoded data removed]",
      "text/plain": [
       "<Figure size 432x288 with 1 Axes>"
      ]
     },
     "metadata": {},
     "output_type": "display_data"
    }
   ],
   "source": [
    "#Plot scatterplot graph.\n",
    "\n",
    "# Set the x limit,\n",
    "plt.xlim(101, -1)\n",
    "\n",
    "#plot scatterplot using a for loop.\n",
    "for target in target_terms:\n",
    "    dataframe = sentiments_df.loc[sentiments_df[\"User\"] == target]\n",
    "    plt.scatter(dataframe[\"Tweets Ago\"],dataframe[\"Compound\"],label = target)\n",
    "    \n",
    "#Add legend\n",
    "plt.legend(bbox_to_anchor = (1,1))\n",
    "\n",
    "#Add title, x axis label, and y axis labe l.\n",
    "plt.title(\"Sentiment Analysis of Media Tweets (7/4/2018)\")\n",
    "plt.xlabel(\"Tweets Ago\")\n",
    "plt.ylabel(\"Tweet Polarity\")\n",
    "\n",
    "#Set a grid on the plot.\n",
    "plt.grid()\n",
    "\n",
    "#Saving the plot imagine \n",
    "# plt.savefig(\"Sentiment Analysis of Media Tweets\")\n",
    "plt.show()"
   ]
  },
  {
   "cell_type": "code",
   "execution_count": 7,
   "metadata": {},
   "outputs": [
    {
     "data": {
      "text/plain": [
       "User\n",
       "@BBCNews   -0.019206\n",
       "@CBSNews   -0.149174\n",
       "@FoxNews   -0.070963\n",
       "@cnnbrk    -0.269127\n",
       "@nytimes   -0.020841\n",
       "Name: Compound, dtype: float64"
      ]
     },
     "execution_count": 7,
     "metadata": {},
     "output_type": "execute_result"
    }
   ],
   "source": [
    "overall_sentiment = sentiments_df.groupby(\"User\")[\"Compound\"].mean()\n",
    "overall_sentiment"
   ]
  },
  {
   "cell_type": "code",
   "execution_count": 11,
   "metadata": {},
   "outputs": [
    {
     "data": {
      "image/png": "[encoded data removed]",
      "text/plain": [
       "<Figure size 432x288 with 1 Axes>"
      ]
     },
     "metadata": {},
     "output_type": "display_data"
    }
   ],
   "source": [
    "x_axis = np.arange(len(overall_sentiment))\n",
    "xlabels = overall_sentiment.index\n",
    "count = 0\n",
    "for sentiment in overall_sentiment:\n",
    "    plt.text(count, sentiment+.01, str(round(sentiment,2)))\n",
    "    count = count + 1\n",
    "plt.bar(x_axis, overall_sentiment, tick_label = xlabels, color = ['purple', 'b', 'y', 'g', 'r'])\n",
    "\n",
    "#Set title, x axis label, and y axis label\n",
    "plt.title(\"Overall Sentiment of Media Tweets (10/17/2018)\")\n",
    "plt.xlabel(\"News Organizations\")\n",
    "plt.ylabel(\"Tweet Polarity\")\n",
    "\n",
    "#Saving the plot imagine \n",
    "plt.savefig(\"Overall Sentiment of Media Tweets\")\n",
    "plt.show()"
   ]
  }
 ],
 "metadata": {
  "kernelspec": {
   "display_name": "Python 3",
   "language": "python",
   "name": "python3"
  },
  "language_info": {
   "codemirror_mode": {
    "name": "ipython",
    "version": 3
   },
   "file_extension": ".py",
   "mimetype": "text/x-python",
   "name": "python",
   "nbconvert_exporter": "python",
   "pygments_lexer": "ipython3",
   "version": "3.6.6"
  }
 },
 "nbformat": 4,
 "nbformat_minor": 2
}
